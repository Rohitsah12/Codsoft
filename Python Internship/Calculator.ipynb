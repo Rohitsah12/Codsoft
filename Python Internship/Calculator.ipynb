{
 "cells": [
  {
   "cell_type": "markdown",
   "id": "7dec8d7e",
   "metadata": {},
   "source": [
    "# C"
   ]
  },
  {
   "cell_type": "code",
   "execution_count": null,
   "id": "c98bbd9c",
   "metadata": {},
   "outputs": [
    {
     "name": "stdout",
     "output_type": "stream",
     "text": [
      "Select Operator\n",
      "+\n",
      "-\n",
      "*\n",
      "/\n"
     ]
    }
   ],
   "source": [
    "class Calculator:\n",
    "    def add(self, x, y):\n",
    "        return x + y\n",
    "\n",
    "    def subtract(self, x, y):\n",
    "        return x - y\n",
    "\n",
    "    def multiply(self, x, y):\n",
    "        return x * y\n",
    "\n",
    "    def divide(self, x, y):\n",
    "        try:\n",
    "            result = x / y\n",
    "        except ZeroDivisionError:\n",
    "            return \"Error: Division by zero!\"\n",
    "        else:\n",
    "            return result\n",
    "\n",
    "def main():\n",
    "    calc = Calculator()\n",
    "\n",
    "    print(\"Select Operator\")\n",
    "    print(\"+\")\n",
    "    print(\"-\")\n",
    "    print(\"*\")\n",
    "    print(\"/\")\n",
    "\n",
    "    choice = input(\"Enter Operator What you want to perform: \")\n",
    "\n",
    "    num1 = float(input(\"Enter first number: \"))\n",
    "    num2 = float(input(\"Enter second number: \"))\n",
    "\n",
    "    if choice == '+':\n",
    "        print( calc.add(num1, num2))\n",
    "    elif choice == '-':\n",
    "        print( calc.subtract(num1, num2))\n",
    "    elif choice == '*':\n",
    "        print(calc.multiply(num1, num2))\n",
    "    elif choice == '/':\n",
    "        print(calc.divide(num1, num2))\n",
    "    else:\n",
    "        print(\"Invalid input\")\n",
    "\n",
    "if __name__ == \"__main__\":\n",
    "    main()\n"
   ]
  },
  {
   "cell_type": "code",
   "execution_count": null,
   "id": "267079c9",
   "metadata": {},
   "outputs": [],
   "source": []
  }
 ],
 "metadata": {
  "kernelspec": {
   "display_name": "Python 3 (ipykernel)",
   "language": "python",
   "name": "python3"
  },
  "language_info": {
   "codemirror_mode": {
    "name": "ipython",
    "version": 3
   },
   "file_extension": ".py",
   "mimetype": "text/x-python",
   "name": "python",
   "nbconvert_exporter": "python",
   "pygments_lexer": "ipython3",
   "version": "3.11.5"
  }
 },
 "nbformat": 4,
 "nbformat_minor": 5
}
